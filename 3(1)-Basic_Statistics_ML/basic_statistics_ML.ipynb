{
 "cells": [
  {
   "cell_type": "markdown",
   "id": "c4823c34",
   "metadata": {},
   "source": [
    "# 문제1. Iris 데이터셋을 활용해 클래스별 변수 평균 차이를 검정"
   ]
  },
  {
   "cell_type": "code",
   "execution_count": 6,
   "id": "6e0f807c",
   "metadata": {},
   "outputs": [
    {
     "name": "stdout",
     "output_type": "stream",
     "text": [
      "   sepal_length  sepal_width  petal_length  petal_width species\n",
      "0           5.1          3.5           1.4          0.2  setosa\n",
      "1           4.9          3.0           1.4          0.2  setosa\n",
      "2           4.7          3.2           1.3          0.2  setosa\n",
      "3           4.6          3.1           1.5          0.2  setosa\n",
      "4           5.0          3.6           1.4          0.2  setosa\n",
      "<class 'pandas.core.frame.DataFrame'>\n",
      "RangeIndex: 150 entries, 0 to 149\n",
      "Data columns (total 5 columns):\n",
      " #   Column        Non-Null Count  Dtype  \n",
      "---  ------        --------------  -----  \n",
      " 0   sepal_length  150 non-null    float64\n",
      " 1   sepal_width   150 non-null    float64\n",
      " 2   petal_length  150 non-null    float64\n",
      " 3   petal_width   150 non-null    float64\n",
      " 4   species       150 non-null    object \n",
      "dtypes: float64(4), object(1)\n",
      "memory usage: 6.0+ KB\n",
      "None\n"
     ]
    }
   ],
   "source": [
    "# Iris 데이터셋 불러오기 및 구조 확인\n",
    "\n",
    "import seaborn as sns\n",
    "\n",
    "iris = sns.load_dataset(\"iris\")\n",
    "print(iris.head())\n",
    "print(iris.info())"
   ]
  },
  {
   "cell_type": "code",
   "execution_count": 7,
   "id": "d3475f4d",
   "metadata": {},
   "outputs": [
    {
     "name": "stdout",
     "output_type": "stream",
     "text": [
      "            count   mean       std  min  25%   50%    75%  max\n",
      "species                                                       \n",
      "setosa       50.0  1.462  0.173664  1.0  1.4  1.50  1.575  1.9\n",
      "versicolor   50.0  4.260  0.469911  3.0  4.0  4.35  4.600  5.1\n",
      "virginica    50.0  5.552  0.551895  4.5  5.1  5.55  5.875  6.9\n"
     ]
    }
   ],
   "source": [
    "# 기술통계량 산출\n",
    "\n",
    "stats = iris.groupby(\"species\")[\"petal_length\"].describe()\n",
    "print(stats)"
   ]
  },
  {
   "cell_type": "code",
   "execution_count": 8,
   "id": "2a83ab58",
   "metadata": {},
   "outputs": [
    {
     "name": "stdout",
     "output_type": "stream",
     "text": [
      "species\n",
      "setosa        50\n",
      "versicolor    50\n",
      "virginica     50\n",
      "Name: count, dtype: int64\n"
     ]
    }
   ],
   "source": [
    "# 그룹별 데이터 개수 확인\n",
    "\n",
    "counts = iris[\"species\"].value_counts()\n",
    "print(counts)"
   ]
  },
  {
   "cell_type": "code",
   "execution_count": 9,
   "id": "392488d2",
   "metadata": {},
   "outputs": [
    {
     "name": "stderr",
     "output_type": "stream",
     "text": [
      "/var/folders/hv/y2yg6cw53bx_m5g2sh5sfc2w0000gp/T/ipykernel_6357/1515105334.py:5: FutureWarning: \n",
      "\n",
      "Passing `palette` without assigning `hue` is deprecated and will be removed in v0.14.0. Assign the `x` variable to `hue` and set `legend=False` for the same effect.\n",
      "\n",
      "  sns.boxplot(x=\"species\", y=\"petal_length\", data=iris, palette=\"Set2\")\n"
     ]
    },
    {
     "data": {
      "image/png": "[encoded data removed]",
      "text/plain": [
       "<Figure size 640x480 with 1 Axes>"
      ]
     },
     "metadata": {},
     "output_type": "display_data"
    },
    {
     "name": "stdout",
     "output_type": "stream",
     "text": [
      "- Virginica의 평균 Petal Length가 가장 크다.\n",
      "- Setosa의 Petal Length의 분산이 제일 작다.\n",
      "- 'Virginica의 경우 이상치의 범위가 가장 넓다.\n"
     ]
    }
   ],
   "source": [
    "# Boxplot 시각화\n",
    "\n",
    "import matplotlib.pyplot as plt\n",
    "\n",
    "sns.boxplot(x=\"species\", y=\"petal_length\", data=iris, palette=\"Set2\")\n",
    "plt.title(\"Species vs. Petal Length\")\n",
    "plt.xlabel(\"Species\")\n",
    "plt.ylabel(\"Petal Length\")\n",
    "plt.grid(True, axis='y', linestyle='--', alpha=0.5)\n",
    "plt.show()\n",
    "\n",
    "print(\"- Virginica의 평균 Petal Length가 가장 크다.\")\n",
    "print(\"- Setosa의 Petal Length의 분산이 제일 작다.\")\n",
    "print(\"- 'Virginica의 경우 이상치의 범위가 가장 넓다.\")"
   ]
  },
  {
   "cell_type": "code",
   "execution_count": 13,
   "id": "0bee1cab",
   "metadata": {},
   "outputs": [
    {
     "name": "stdout",
     "output_type": "stream",
     "text": [
      "Shapiro-Wilk 정규성 검정\n",
      "귀무가설: 표본 데이터는 정규분포를 따른다.\n",
      "대립가설: 표본 데이터는 정규분포를 따르지 않는다.\n",
      "\n",
      "setosa - p-value: 0.05481146719553462 -> 정규성을 만족함 (귀무가설 채택)\n",
      "versicolor - p-value: 0.15847783815657573 -> 정규성을 만족함 (귀무가설 채택)\n",
      "virginica - p-value: 0.10977536903223795 -> 정규성을 만족함 (귀무가설 채택)\n"
     ]
    }
   ],
   "source": [
    "# Shapiro-Wilk 검정\n",
    "import scipy.stats as stats\n",
    "\n",
    "species = iris['species'].unique()\n",
    "\n",
    "print(\"Shapiro-Wilk 정규성 검정\")\n",
    "print(\"귀무가설: 표본 데이터는 정규분포를 따른다.\")\n",
    "print(\"대립가설: 표본 데이터는 정규분포를 따르지 않는다.\\n\")\n",
    "\n",
    "for species in species:\n",
    "    data = iris[iris['species'] == species]['petal_length']\n",
    "    stat, p = stats.shapiro(data)\n",
    "    print(f\"{species} - p-value: {p} -> \", end=\"\")\n",
    "    if p > 0.05:\n",
    "        print(\"정규성을 만족함 (귀무가설 채택)\")\n",
    "    else:\n",
    "        print(\"정규성을 만족하지 않음 (귀무가설 기각)\")\n"
   ]
  },
  {
   "cell_type": "code",
   "execution_count": 17,
   "id": "dc841dee",
   "metadata": {},
   "outputs": [
    {
     "name": "stdout",
     "output_type": "stream",
     "text": [
      "Levene 등분산성 검정\n",
      "귀무가설: 세 Species는 동일한 분산을 가진다. -> 등분산성 만족\n",
      "대립가설: 세 Species 중 적어도 한 Species의 분산은 다르다. -> 등분산성 불만족\n",
      "\n",
      "p-value: 3.1287566394085344e-08 -> 등분산성을 만족하지 않음 (귀무가설 기각)\n"
     ]
    }
   ],
   "source": [
    "# Levene 등분산성 검정\n",
    "from scipy.stats import levene\n",
    "\n",
    "setosa = iris[iris['species'] == 'setosa']['petal_length']\n",
    "versicolor = iris[iris['species'] == 'versicolor']['petal_length']\n",
    "virginica = iris[iris['species'] == 'virginica']['petal_length']\n",
    "\n",
    "stat, p = levene(setosa, versicolor, virginica)\n",
    "\n",
    "print(\"Levene 등분산성 검정\")\n",
    "print(\"귀무가설: 세 Species는 동일한 분산을 가진다. -> 등분산성 만족\")\n",
    "print(\"대립가설: 세 Species 중 적어도 한 Species의 분산은 다르다. -> 등분산성 불만족\\n\")\n",
    "\n",
    "print(f\"p-value: {p} -> \", end=\"\")\n",
    "if p > 0.05:\n",
    "    print(\"등분산성을 만족함 (귀무가설 채택)\")\n",
    "else:\n",
    "    print(\"등분산성을 만족하지 않음 (귀무가설 기각)\")\n"
   ]
  },
  {
   "cell_type": "code",
   "execution_count": 20,
   "id": "def7f041",
   "metadata": {},
   "outputs": [
    {
     "name": "stdout",
     "output_type": "stream",
     "text": [
      "One-way ANOVA 결과\n",
      "귀무가설: 3개 Species 간의 평균의 차이가 유의하지 않다.\n",
      "대립가설: 적어도 하나의 Species의 평균은 나머지와 유의한 차이가 존재한다.\n",
      "\n",
      "F 통계량: 1180.161182252981\n",
      "p-value: 2.8567766109615584e-91 -> 귀무가설 기각\n"
     ]
    }
   ],
   "source": [
    "# One-way ANOVA\n",
    "from scipy.stats import f_oneway\n",
    "\n",
    "f_stat, p_value = f_oneway(setosa, versicolor, virginica)\n",
    "\n",
    "print(\"One-way ANOVA 결과\")\n",
    "print(\"귀무가설: 3개 Species 간의 평균의 차이가 유의하지 않다.\")\n",
    "print(\"대립가설: 적어도 하나의 Species의 평균은 나머지와 유의한 차이가 존재한다.\\n\")\n",
    "\n",
    "print(f\"F 통계량: {f_stat}\")\n",
    "print(f\"p-value: {p_value} -> \", end=\"\")\n",
    "\n",
    "if p_value < 0.05:\n",
    "    print(\"귀무가설 기각\")\n",
    "else:\n",
    "    print(\"귀무가설 채택\")"
   ]
  },
  {
   "cell_type": "code",
   "execution_count": 21,
   "id": "3d0aaa26",
   "metadata": {},
   "outputs": [
    {
     "name": "stdout",
     "output_type": "stream",
     "text": [
      "Tukey HSD 사후검정 결과\n",
      "   Multiple Comparison of Means - Tukey HSD, FWER=0.05   \n",
      "=========================================================\n",
      "  group1     group2   meandiff p-adj lower  upper  reject\n",
      "---------------------------------------------------------\n",
      "    setosa versicolor    2.798   0.0 2.5942 3.0018   True\n",
      "    setosa  virginica     4.09   0.0 3.8862 4.2938   True\n",
      "versicolor  virginica    1.292   0.0 1.0882 1.4958   True\n",
      "---------------------------------------------------------\n"
     ]
    }
   ],
   "source": [
    "# Tukey HSD 사후검정\n",
    "import statsmodels.api as sm\n",
    "from statsmodels.stats.multicomp import pairwise_tukeyhsd\n",
    "\n",
    "tukey = pairwise_tukeyhsd(endog=iris['petal_length'],\n",
    "                          groups=iris['species'],\n",
    "                          alpha=0.05)\n",
    "\n",
    "print(\"Tukey HSD 사후검정 결과\")\n",
    "print(tukey.summary())\n"
   ]
  },
  {
   "cell_type": "markdown",
   "id": "0a6cfa4d",
   "metadata": {},
   "source": [
    "# 문제2. 실제 신용카드 사기 데이터셋을 활용해 클래스 불균형 상황에서 분류모델을 학습"
   ]
  },
  {
   "cell_type": "code",
   "execution_count": 22,
   "id": "9c974f73",
   "metadata": {},
   "outputs": [
    {
     "name": "stdout",
     "output_type": "stream",
     "text": [
      "   Time        V1        V2        V3        V4        V5        V6        V7  \\\n",
      "0   0.0 -1.359807 -0.072781  2.536347  1.378155 -0.338321  0.462388  0.239599   \n",
      "1   0.0  1.191857  0.266151  0.166480  0.448154  0.060018 -0.082361 -0.078803   \n",
      "2   1.0 -1.358354 -1.340163  1.773209  0.379780 -0.503198  1.800499  0.791461   \n",
      "3   1.0 -0.966272 -0.185226  1.792993 -0.863291 -0.010309  1.247203  0.237609   \n",
      "4   2.0 -1.158233  0.877737  1.548718  0.403034 -0.407193  0.095921  0.592941   \n",
      "\n",
      "         V8        V9  ...       V21       V22       V23       V24       V25  \\\n",
      "0  0.098698  0.363787  ... -0.018307  0.277838 -0.110474  0.066928  0.128539   \n",
      "1  0.085102 -0.255425  ... -0.225775 -0.638672  0.101288 -0.339846  0.167170   \n",
      "2  0.247676 -1.514654  ...  0.247998  0.771679  0.909412 -0.689281 -0.327642   \n",
      "3  0.377436 -1.387024  ... -0.108300  0.005274 -0.190321 -1.175575  0.647376   \n",
      "4 -0.270533  0.817739  ... -0.009431  0.798278 -0.137458  0.141267 -0.206010   \n",
      "\n",
      "        V26       V27       V28  Amount  Class  \n",
      "0 -0.189115  0.133558 -0.021053  149.62      0  \n",
      "1  0.125895 -0.008983  0.014724    2.69      0  \n",
      "2 -0.139097 -0.055353 -0.059752  378.66      0  \n",
      "3 -0.221929  0.062723  0.061458  123.50      0  \n",
      "4  0.502292  0.219422  0.215153   69.99      0  \n",
      "\n",
      "[5 rows x 31 columns]\n"
     ]
    }
   ],
   "source": [
    "# 데이터셋 불러오기 및 데이터 구조 확인\n",
    "import pandas as pd\n",
    "\n",
    "data = pd.read_csv(\"creditcard.csv\")\n",
    "print(data.head())"
   ]
  },
  {
   "cell_type": "code",
   "execution_count": 23,
   "id": "cf0aaecc",
   "metadata": {},
   "outputs": [
    {
     "name": "stdout",
     "output_type": "stream",
     "text": [
      "<class 'pandas.core.frame.DataFrame'>\n",
      "RangeIndex: 284807 entries, 0 to 284806\n",
      "Data columns (total 31 columns):\n",
      " #   Column  Non-Null Count   Dtype  \n",
      "---  ------  --------------   -----  \n",
      " 0   Time    284807 non-null  float64\n",
      " 1   V1      284807 non-null  float64\n",
      " 2   V2      284807 non-null  float64\n",
      " 3   V3      284807 non-null  float64\n",
      " 4   V4      284807 non-null  float64\n",
      " 5   V5      284807 non-null  float64\n",
      " 6   V6      284807 non-null  float64\n",
      " 7   V7      284807 non-null  float64\n",
      " 8   V8      284807 non-null  float64\n",
      " 9   V9      284807 non-null  float64\n",
      " 10  V10     284807 non-null  float64\n",
      " 11  V11     284807 non-null  float64\n",
      " 12  V12     284807 non-null  float64\n",
      " 13  V13     284807 non-null  float64\n",
      " 14  V14     284807 non-null  float64\n",
      " 15  V15     284807 non-null  float64\n",
      " 16  V16     284807 non-null  float64\n",
      " 17  V17     284807 non-null  float64\n",
      " 18  V18     284807 non-null  float64\n",
      " 19  V19     284807 non-null  float64\n",
      " 20  V20     284807 non-null  float64\n",
      " 21  V21     284807 non-null  float64\n",
      " 22  V22     284807 non-null  float64\n",
      " 23  V23     284807 non-null  float64\n",
      " 24  V24     284807 non-null  float64\n",
      " 25  V25     284807 non-null  float64\n",
      " 26  V26     284807 non-null  float64\n",
      " 27  V27     284807 non-null  float64\n",
      " 28  V28     284807 non-null  float64\n",
      " 29  Amount  284807 non-null  float64\n",
      " 30  Class   284807 non-null  int64  \n",
      "dtypes: float64(30), int64(1)\n",
      "memory usage: 67.4 MB\n",
      "None\n"
     ]
    }
   ],
   "source": [
    "print(data.info())"
   ]
  },
  {
   "cell_type": "code",
   "execution_count": 24,
   "id": "e81df402",
   "metadata": {},
   "outputs": [
    {
     "name": "stdout",
     "output_type": "stream",
     "text": [
      "                Time            V1            V2            V3            V4  \\\n",
      "count  284807.000000  2.848070e+05  2.848070e+05  2.848070e+05  2.848070e+05   \n",
      "mean    94813.859575  1.168375e-15  3.416908e-16 -1.379537e-15  2.074095e-15   \n",
      "std     47488.145955  1.958696e+00  1.651309e+00  1.516255e+00  1.415869e+00   \n",
      "min         0.000000 -5.640751e+01 -7.271573e+01 -4.832559e+01 -5.683171e+00   \n",
      "25%     54201.500000 -9.203734e-01 -5.985499e-01 -8.903648e-01 -8.486401e-01   \n",
      "50%     84692.000000  1.810880e-02  6.548556e-02  1.798463e-01 -1.984653e-02   \n",
      "75%    139320.500000  1.315642e+00  8.037239e-01  1.027196e+00  7.433413e-01   \n",
      "max    172792.000000  2.454930e+00  2.205773e+01  9.382558e+00  1.687534e+01   \n",
      "\n",
      "                 V5            V6            V7            V8            V9  \\\n",
      "count  2.848070e+05  2.848070e+05  2.848070e+05  2.848070e+05  2.848070e+05   \n",
      "mean   9.604066e-16  1.487313e-15 -5.556467e-16  1.213481e-16 -2.406331e-15   \n",
      "std    1.380247e+00  1.332271e+00  1.237094e+00  1.194353e+00  1.098632e+00   \n",
      "min   -1.137433e+02 -2.616051e+01 -4.355724e+01 -7.321672e+01 -1.343407e+01   \n",
      "25%   -6.915971e-01 -7.682956e-01 -5.540759e-01 -2.086297e-01 -6.430976e-01   \n",
      "50%   -5.433583e-02 -2.741871e-01  4.010308e-02  2.235804e-02 -5.142873e-02   \n",
      "75%    6.119264e-01  3.985649e-01  5.704361e-01  3.273459e-01  5.971390e-01   \n",
      "max    3.480167e+01  7.330163e+01  1.205895e+02  2.000721e+01  1.559499e+01   \n",
      "\n",
      "       ...           V21           V22           V23           V24  \\\n",
      "count  ...  2.848070e+05  2.848070e+05  2.848070e+05  2.848070e+05   \n",
      "mean   ...  1.654067e-16 -3.568593e-16  2.578648e-16  4.473266e-15   \n",
      "std    ...  7.345240e-01  7.257016e-01  6.244603e-01  6.056471e-01   \n",
      "min    ... -3.483038e+01 -1.093314e+01 -4.480774e+01 -2.836627e+00   \n",
      "25%    ... -2.283949e-01 -5.423504e-01 -1.618463e-01 -3.545861e-01   \n",
      "50%    ... -2.945017e-02  6.781943e-03 -1.119293e-02  4.097606e-02   \n",
      "75%    ...  1.863772e-01  5.285536e-01  1.476421e-01  4.395266e-01   \n",
      "max    ...  2.720284e+01  1.050309e+01  2.252841e+01  4.584549e+00   \n",
      "\n",
      "                V25           V26           V27           V28         Amount  \\\n",
      "count  2.848070e+05  2.848070e+05  2.848070e+05  2.848070e+05  284807.000000   \n",
      "mean   5.340915e-16  1.683437e-15 -3.660091e-16 -1.227390e-16      88.349619   \n",
      "std    5.212781e-01  4.822270e-01  4.036325e-01  3.300833e-01     250.120109   \n",
      "min   -1.029540e+01 -2.604551e+00 -2.256568e+01 -1.543008e+01       0.000000   \n",
      "25%   -3.171451e-01 -3.269839e-01 -7.083953e-02 -5.295979e-02       5.600000   \n",
      "50%    1.659350e-02 -5.213911e-02  1.342146e-03  1.124383e-02      22.000000   \n",
      "75%    3.507156e-01  2.409522e-01  9.104512e-02  7.827995e-02      77.165000   \n",
      "max    7.519589e+00  3.517346e+00  3.161220e+01  3.384781e+01   25691.160000   \n",
      "\n",
      "               Class  \n",
      "count  284807.000000  \n",
      "mean        0.001727  \n",
      "std         0.041527  \n",
      "min         0.000000  \n",
      "25%         0.000000  \n",
      "50%         0.000000  \n",
      "75%         0.000000  \n",
      "max         1.000000  \n",
      "\n",
      "[8 rows x 31 columns]\n"
     ]
    }
   ],
   "source": [
    "print(data.describe())"
   ]
  },
  {
   "cell_type": "code",
   "execution_count": 25,
   "id": "47ebe5fe",
   "metadata": {},
   "outputs": [
    {
     "name": "stdout",
     "output_type": "stream",
     "text": [
      "Class\n",
      "0    284315\n",
      "1       492\n",
      "Name: count, dtype: int64\n",
      "Class\n",
      "0    99.827251\n",
      "1     0.172749\n",
      "Name: count, dtype: float64\n"
     ]
    }
   ],
   "source": [
    "# 정상거래 / 사기거래 건수 확인하기\n",
    "class_counts = data['Class'].value_counts()\n",
    "print(class_counts)\n",
    "\n",
    "class_ratio = class_counts / len(data) * 100\n",
    "print(class_ratio)"
   ]
  },
  {
   "cell_type": "code",
   "execution_count": 26,
   "id": "abcf0ded",
   "metadata": {},
   "outputs": [
    {
     "name": "stdout",
     "output_type": "stream",
     "text": [
      "Class\n",
      "0    10000\n",
      "1      492\n",
      "Name: count, dtype: int64\n",
      "Class\n",
      "0    95.310713\n",
      "1     4.689287\n",
      "Name: proportion, dtype: float64\n"
     ]
    }
   ],
   "source": [
    "# 샘플링\n",
    "data_1 = data[data[\"Class\"] == 1]\n",
    "data_0 = data[data[\"Class\"] == 0].sample(n=10000, random_state=42)\n",
    "\n",
    "sampled_data = pd.concat([data_1, data_0], axis=0).reset_index(drop=True)\n",
    "\n",
    "print(sampled_data['Class'].value_counts())\n",
    "print(sampled_data['Class'].value_counts(normalize=True) * 100)"
   ]
  },
  {
   "cell_type": "code",
   "execution_count": null,
   "id": "290aae63",
   "metadata": {},
   "outputs": [],
   "source": [
    "# 데이터 전처리\n",
    "from sklearn.preprocessing import StandardScaler\n",
    "\n",
    "scaler = StandardScaler()\n",
    "\n",
    "sampled_data['Amount_Scaled'] = scaler.fit_transform(sampled_data[['Amount']])\n",
    "\n",
    "sampled_data = sampled_data.drop(columns=['Amount'])\n",
    "\n",
    "X = sampled_data.drop(columns=['Class'])\n",
    "y = sampled_data['Class']"
   ]
  },
  {
   "cell_type": "code",
   "execution_count": 30,
   "id": "0974eb7d",
   "metadata": {},
   "outputs": [
    {
     "name": "stdout",
     "output_type": "stream",
     "text": [
      "Class\n",
      "0    95.305612\n",
      "1     4.694388\n",
      "Name: proportion, dtype: float64\n",
      "Class\n",
      "0    95.33111\n",
      "1     4.66889\n",
      "Name: proportion, dtype: float64\n"
     ]
    }
   ],
   "source": [
    "# 학습 데이터셋과 테스트 데이터셋 분할\n",
    "from sklearn.model_selection import train_test_split\n",
    "\n",
    "X_train, X_test, y_train, y_test = train_test_split(\n",
    "    X, y, test_size=0.2, random_state=42, stratify=y\n",
    ")\n",
    "\n",
    "print(y_train.value_counts(normalize=True) * 100)\n",
    "print(y_test.value_counts(normalize=True) * 100)"
   ]
  },
  {
   "cell_type": "code",
   "execution_count": 32,
   "id": "c4ee3de1",
   "metadata": {},
   "outputs": [
    {
     "name": "stdout",
     "output_type": "stream",
     "text": [
      "Before SMOTE: Counter({0: 7999, 1: 394})\n",
      "After SMOTE: Counter({0: 7999, 1: 7999})\n"
     ]
    }
   ],
   "source": [
    "from imblearn.over_sampling import SMOTE\n",
    "from collections import Counter\n",
    "\n",
    "smote = SMOTE(random_state=42)\n",
    "print(\"Before SMOTE:\", Counter(y_train))\n",
    "\n",
    "\n",
    "X_train_resampled, y_train_resampled = smote.fit_resample(X_train, y_train)\n",
    "print(\"After SMOTE:\", Counter(y_train_resampled))"
   ]
  },
  {
   "cell_type": "code",
   "execution_count": null,
   "id": "83ba1a51",
   "metadata": {},
   "outputs": [
    {
     "name": "stdout",
     "output_type": "stream",
     "text": [
      "[0 0 0 ... 0 0 0]\n",
      "[0.02 0.   0.03 ... 0.   0.   0.01]\n"
     ]
    }
   ],
   "source": [
    "# 모델 학습 및 테스트셋 예측값, 예측 확률 확인\n",
    "from sklearn.ensemble import RandomForestClassifier\n",
    "\n",
    "model = RandomForestClassifier(random_state=42)\n",
    "model.fit(X_train_resampled, y_train_resampled)\n",
    "\n",
    "predict = model.predict(X_test)\n",
    "predict_proba = model.predict_proba(X_test)[:, 1] \n",
    "\n",
    "print(predict)\n",
    "print(predict_proba)"
   ]
  },
  {
   "cell_type": "code",
   "execution_count": 38,
   "id": "5174b0b9",
   "metadata": {},
   "outputs": [
    {
     "name": "stdout",
     "output_type": "stream",
     "text": [
      "Classification Report:\n",
      "              precision    recall  f1-score   support\n",
      "\n",
      "           0     0.9945    0.9975    0.9960      2001\n",
      "           1     0.9457    0.8878    0.9158        98\n",
      "\n",
      "    accuracy                         0.9924      2099\n",
      "   macro avg     0.9701    0.9426    0.9559      2099\n",
      "weighted avg     0.9922    0.9924    0.9923      2099\n",
      "\n",
      "\n",
      "PR-AUC : 0.9538\n"
     ]
    }
   ],
   "source": [
    "# 최종 성능 평가\n",
    "from sklearn.metrics import classification_report, average_precision_score\n",
    "\n",
    "print(\"Classification Report:\")\n",
    "print(classification_report(y_test, predict, digits=4))\n",
    "\n",
    "pr_auc = average_precision_score(y_test, predict_proba)\n",
    "print(f\"\\nPR-AUC : {pr_auc:.4f}\")"
   ]
  }
 ],
 "metadata": {
  "kernelspec": {
   "display_name": ".venv",
   "language": "python",
   "name": "python3"
  },
  "language_info": {
   "codemirror_mode": {
    "name": "ipython",
    "version": 3
   },
   "file_extension": ".py",
   "mimetype": "text/x-python",
   "name": "python",
   "nbconvert_exporter": "python",
   "pygments_lexer": "ipython3",
   "version": "3.10.15"
  }
 },
 "nbformat": 4,
 "nbformat_minor": 5
}
